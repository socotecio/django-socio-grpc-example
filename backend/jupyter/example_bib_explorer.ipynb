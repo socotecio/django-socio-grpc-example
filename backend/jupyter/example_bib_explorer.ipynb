{
 "cells": [
  {
   "cell_type": "markdown",
   "metadata": {},
   "source": [
    "# ASync Example Bibliograpy Explorer"
   ]
  },
  {
   "cell_type": "code",
   "execution_count": null,
   "metadata": {},
   "outputs": [],
   "source": [
    "import grpc\n",
    "import json\n",
    "import asyncio\n",
    "from example_bib_app.grpc import example_bib_app_pb2_grpc, example_bib_app_pb2\n",
    "\n",
    "from datetime import datetime"
   ]
  },
  {
   "cell_type": "code",
   "execution_count": null,
   "metadata": {},
   "outputs": [],
   "source": [
    "# gRPC clients\n",
    "\n",
    "grpc_server_host = 'localhost' # '127.0.0.1' \n",
    "grpc_server_port = 50051\n",
    "\n",
    "sync_channel = grpc.aio.insecure_channel(f'{grpc_server_host}:{grpc_server_port}')\n",
    "author_client = example_bib_app_pb2_grpc.AuthorControllerStub(sync_channel)\n",
    "publisher_client = example_bib_app_pb2_grpc.PublisherControllerStub(sync_channel)\n",
    "\n",
    "publ_cat_client = example_bib_app_pb2_grpc.PublicationCategoryControllerStub(sync_channel)\n",
    "\n",
    "book_client = example_bib_app_pb2_grpc.BookControllerStub(sync_channel)\n",
    "\n",
    "journal_client = example_bib_app_pb2_grpc.JournalControllerStub(sync_channel)"
   ]
  },
  {
   "cell_type": "markdown",
   "metadata": {},
   "source": [
    "## Creating Authors"
   ]
  },
  {
   "cell_type": "code",
   "execution_count": null,
   "metadata": {},
   "outputs": [],
   "source": [
    "\n",
    "for i in range(1000):\n",
    "    author_response = await author_client.Create(example_bib_app_pb2.AuthorRequest(name_first='John', name_last=f'Doe{i}', birth_date=datetime.now().strftime('%Y-%m-%d')))\n",
    "    author_response"
   ]
  },
  {
   "cell_type": "code",
   "execution_count": null,
   "metadata": {},
   "outputs": [],
   "source": [
    "res = await author_client.List(example_bib_app_pb2.AuthorListRequest())\n",
    "res.results\n",
    "for author in res.results:\n",
    "    print(author.name_first, author.name_last)\n",
    "    last_author_id = author.author_id\n"
   ]
  },
  {
   "cell_type": "code",
   "execution_count": null,
   "metadata": {},
   "outputs": [],
   "source": [
    "last_author_id"
   ]
  },
  {
   "cell_type": "code",
   "execution_count": null,
   "metadata": {},
   "outputs": [],
   "source": [
    "publisher_response = await publisher_client.Create(example_bib_app_pb2.PublisherRequest(name='Hopper', website='https://hopper.com' ))\n",
    "publisher_response"
   ]
  },
  {
   "cell_type": "code",
   "execution_count": null,
   "metadata": {},
   "outputs": [],
   "source": [
    "# list publishers\n",
    "res = await publisher_client.List(example_bib_app_pb2.PublisherListRequest())\n",
    "res.results"
   ]
  },
  {
   "cell_type": "markdown",
   "metadata": {},
   "source": [
    "## Using Filters"
   ]
  },
  {
   "cell_type": "code",
   "execution_count": null,
   "metadata": {},
   "outputs": [],
   "source": [
    "filter_as_dict = {\"name_last\": \"Doe\"}\n",
    "metadata = ((\"filters\", (json.dumps(filter_as_dict))),)\n",
    "\n",
    "res = await author_client.List(example_bib_app_pb2.AuthorListRequest(), metadata=metadata)\n",
    "res.results\n"
   ]
  },
  {
   "cell_type": "markdown",
   "metadata": {},
   "source": [
    "## Exploring Publisher"
   ]
  },
  {
   "cell_type": "code",
   "execution_count": null,
   "metadata": {},
   "outputs": [],
   "source": [
    "# Create three Publisher\n",
    "\n",
    "publisher_response = await publisher_client.Create(\n",
    "    example_bib_app_pb2.PublisherRequest(\n",
    "        name=\"O'Reilly\",\n",
    "        address=\"\",\n",
    "        city=\"\",\n",
    "        state_province=\"\",\n",
    "        country=\"\",\n",
    "        website=\"https://www.oreilly.com/\",\n",
    "    )\n",
    ")\n",
    "print(\"publisher create response:\", publisher_response)\n",
    "\n",
    "publisher_response = await publisher_client.Create(\n",
    "    example_bib_app_pb2.PublisherRequest(\n",
    "        name=\"Springer\",\n",
    "        address=\"\",\n",
    "        city=\"\",\n",
    "        state_province=\"\",\n",
    "        country=\"\",\n",
    "        website=\"https://www.springer.com/\",\n",
    "    )\n",
    ")\n",
    "\n",
    "print(\"publisher create response:\", publisher_response)\n",
    "\n",
    "publisher_response = await publisher_client.Create(\n",
    "    example_bib_app_pb2.PublisherRequest(\n",
    "        name=\"MIT Press\",\n",
    "        address=\"\",\n",
    "        city=\"\",\n",
    "        state_province=\"\",\n",
    "        country=\"\",\n",
    "        website=\"https://mitpress.mit.edu/\",\n",
    "    )\n",
    ")\n",
    "\n",
    "print(\"publisher create response:\", publisher_response)"
   ]
  },
  {
   "cell_type": "code",
   "execution_count": null,
   "metadata": {},
   "outputs": [],
   "source": [
    "# List Publishers\n",
    "\n",
    "res = await publisher_client.List(example_bib_app_pb2.PublisherListRequest())\n",
    "res.results\n",
    "\n",
    "print(\"publisher list response:\", res)\n",
    "\n",
    "for publisher in res.results:\n",
    "    print(publisher.name)\n",
    "    last_publisher_id = publisher.publisher_id"
   ]
  },
  {
   "cell_type": "code",
   "execution_count": null,
   "metadata": {},
   "outputs": [],
   "source": [
    "last_publisher_id"
   ]
  },
  {
   "cell_type": "markdown",
   "metadata": {},
   "source": [
    "## Exploring Books"
   ]
  },
  {
   "cell_type": "code",
   "execution_count": null,
   "metadata": {},
   "outputs": [],
   "source": [
    "# creating books\n",
    "for i in range(1000):\n",
    "    await book_client.Create(example_bib_app_pb2.BookRequest(title=f'book {i}', \n",
    "                                                            authors=[author_response.author_id],\n",
    "                                                            isbn=f'isbn-{i}',\n",
    "                                                            publisher=publisher_response.publisher_id,\n",
    "                                                            publication_date=datetime.now().strftime('%Y-%m-%d')\n",
    "                                                            ))"
   ]
  },
  {
   "cell_type": "code",
   "execution_count": null,
   "metadata": {},
   "outputs": [],
   "source": [
    "# speed improved version, using gather\n",
    "\n",
    "async def create_books(n):\n",
    "    book_dict = {\n",
    "        \"title\": f\"book_gather {n}\",\n",
    "        \"authors\": [last_author_id],\n",
    "        \"isbn\": f\"isbn-{n}\",\n",
    "        \"publisher\": last_publisher_id,\n",
    "        \"publication_date\": datetime.now().strftime(\"%Y-%m-%d\"),\n",
    "    }\n",
    "    res = await book_client.Create(example_bib_app_pb2.BookRequest(**book_dict))\n",
    "    return res"
   ]
  },
  {
   "cell_type": "code",
   "execution_count": null,
   "metadata": {},
   "outputs": [],
   "source": [
    "await asyncio.gather(*(create_books(n) for n in range(1000)))"
   ]
  },
  {
   "cell_type": "code",
   "execution_count": null,
   "metadata": {},
   "outputs": [],
   "source": [
    "# list books\n",
    "\n",
    "res = await book_client.List(example_bib_app_pb2.BookListRequest())\n",
    "res.results"
   ]
  },
  {
   "cell_type": "code",
   "execution_count": null,
   "metadata": {},
   "outputs": [],
   "source": [
    "# stream books\n",
    "\n",
    "async for book in  book_client.Stream(example_bib_app_pb2.BookStreamRequest()):\n",
    "    print(book)\n"
   ]
  },
  {
   "cell_type": "code",
   "execution_count": null,
   "metadata": {},
   "outputs": [],
   "source": [
    "# stream books\n",
    "async for book in book_client.StreamBooksByIDList(example_bib_app_pb2.BookStreamBooksByIDListRequest(book_ids = [\"d507ea75-a416-43c2-9de5-55a7e732b531\", \"0f82740f-f600-40a2-b7af-eb0af42ab975\"])):\n",
    "    print(book)"
   ]
  },
  {
   "cell_type": "markdown",
   "metadata": {},
   "source": [
    "## Exploring Categories"
   ]
  },
  {
   "cell_type": "code",
   "execution_count": null,
   "metadata": {},
   "outputs": [],
   "source": [
    " # Create three PublicationCategories\n",
    "\n",
    "publication_category_response = await publ_cat_client.Create(\n",
    "    example_bib_app_pb2.PublicationCategoryRequest(\n",
    "        name=\"Book\",\n",
    "    )\n",
    ")\n",
    "print(\"publication category create response:\", publication_category_response)\n",
    "\n",
    "publication_category_response = await publ_cat_client.Create(\n",
    "    example_bib_app_pb2.PublicationCategoryRequest(\n",
    "        name=\"Journal\",\n",
    "    )\n",
    ")\n",
    "\n",
    "print(\"publication category create response:\", publication_category_response)\n",
    "\n",
    "publication_category_response = await publ_cat_client.Create(\n",
    "    example_bib_app_pb2.PublicationCategoryRequest(\n",
    "        name=\"Magazine\",\n",
    "    )\n",
    ")\n",
    "\n",
    "print(\"publication category create response:\", publication_category_response)\n"
   ]
  },
  {
   "cell_type": "code",
   "execution_count": null,
   "metadata": {},
   "outputs": [],
   "source": [
    "\n",
    "# list all categories\n",
    "\n",
    "res = await publ_cat_client.List(example_bib_app_pb2.PublicationCategoryListRequest())\n",
    "res.results\n",
    "for category in res.results:\n",
    "    print(category.name)\n",
    "    last_category_id = category.category_id"
   ]
  },
  {
   "cell_type": "code",
   "execution_count": null,
   "metadata": {},
   "outputs": [],
   "source": [
    "last_category_id"
   ]
  },
  {
   "cell_type": "markdown",
   "metadata": {},
   "source": [
    "## Exploring Journal Articles"
   ]
  },
  {
   "cell_type": "code",
   "execution_count": null,
   "metadata": {},
   "outputs": [],
   "source": [
    "# creating Journal Articles\n",
    "for i in range(10):\n",
    "    await journal_client.Create(example_bib_app_pb2.JournalRequest(title=f'journal {i}', \n",
    "                                                            authors=[last_author_id],\n",
    "                                                            publisher=last_publisher_id,\n",
    "                                                            categories=[last_category_id],\n",
    "                                                            #publication_date=datetime.now().strftime('%Y-%m-%d')\n",
    "                                                            ))"
   ]
  },
  {
   "cell_type": "code",
   "execution_count": null,
   "metadata": {},
   "outputs": [],
   "source": [
    "# list Journal Articles\n",
    "\n",
    "res = await journal_client.List(example_bib_app_pb2.JournalListRequest())\n",
    "res.results"
   ]
  },
  {
   "cell_type": "markdown",
   "metadata": {},
   "source": [
    "## Closing channels"
   ]
  },
  {
   "cell_type": "code",
   "execution_count": null,
   "metadata": {},
   "outputs": [],
   "source": [
    "sync_channel.close()"
   ]
  }
 ],
 "metadata": {
  "kernelspec": {
   "display_name": "sociogrpc",
   "language": "python",
   "name": "python3"
  },
  "language_info": {
   "codemirror_mode": {
    "name": "ipython",
    "version": 3
   },
   "file_extension": ".py",
   "mimetype": "text/x-python",
   "name": "python",
   "nbconvert_exporter": "python",
   "pygments_lexer": "ipython3",
   "version": "3.10.12"
  }
 },
 "nbformat": 4,
 "nbformat_minor": 2
}
