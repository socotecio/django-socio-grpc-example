{
 "cells": [
  {
   "cell_type": "markdown",
   "metadata": {},
   "source": [
    "# Accessing the books example directly through the DJANGO API"
   ]
  },
  {
   "cell_type": "code",
   "execution_count": null,
   "metadata": {},
   "outputs": [],
   "source": [
    "import os, sys\n",
    "import time\n",
    "\n",
    "#PWD = os.getenv('PWD')\n",
    "#os.chdir(PWD)\n",
    "#sys.path.insert(0, os.getenv('PWD'))\n",
    "#import asyncio\n",
    "#from asgiref.sync import sync_to_async\n",
    "\n",
    "os.environ.setdefault(\"DJANGO_SETTINGS_MODULE\", \"dsg_example.settings\")\n",
    "\n",
    "import django\n",
    "django.setup()"
   ]
  },
  {
   "cell_type": "code",
   "execution_count": null,
   "metadata": {},
   "outputs": [],
   "source": [
    "from example_bib_app.models import Author, Book"
   ]
  },
  {
   "cell_type": "code",
   "execution_count": null,
   "metadata": {},
   "outputs": [],
   "source": [
    "Author.objects.all()"
   ]
  },
  {
   "cell_type": "code",
   "execution_count": null,
   "metadata": {},
   "outputs": [],
   "source": [
    "# create 1000 authors\n",
    "#results = await sync_to_async(sync_function, thread_sensitive=True)(pk=123)\n",
    "\n",
    "start = time.perf_counter()\n",
    "\n",
    "for i in range(1000):\n",
    "    #results = await sync_to_async( Author.objects.create(name_first=f'api_Author {i}-first', name_last=f'api_Author {i}-last'), thread_sensitive=True)() \n",
    "    Author.objects.create(name_first=f'api_Author {i}-first', name_last=f'api_Author {i}-last')\n",
    "\n",
    "elapsed = time.perf_counter() - start\n",
    "print(f\"Program completed in {elapsed:0.5f} seconds.\")"
   ]
  },
  {
   "cell_type": "code",
   "execution_count": null,
   "metadata": {},
   "outputs": [],
   "source": []
  },
  {
   "cell_type": "code",
   "execution_count": null,
   "metadata": {},
   "outputs": [],
   "source": [
    "# create 1000 books\n",
    "for i in range(1000):\n",
    "    Book.objects.create(title='Book %d' % i, author=Author.objects.get(name='Author %d' % i))"
   ]
  }
 ],
 "metadata": {
  "kernelspec": {
   "display_name": "Python 3 (ipykernel)",
   "language": "python",
   "name": "python3"
  },
  "language_info": {
   "codemirror_mode": {
    "name": "ipython",
    "version": 3
   },
   "file_extension": ".py",
   "mimetype": "text/x-python",
   "name": "python",
   "nbconvert_exporter": "python",
   "pygments_lexer": "ipython3",
   "version": "3.10.12"
  }
 },
 "nbformat": 4,
 "nbformat_minor": 4
}
